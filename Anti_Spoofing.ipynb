{
 "cells": [
  {
   "cell_type": "markdown",
   "id": "e046351a",
   "metadata": {},
   "source": [
    "# model"
   ]
  },
  {
   "cell_type": "code",
   "execution_count": 1,
   "id": "fd962dc8",
   "metadata": {
    "scrolled": true
   },
   "outputs": [
    {
     "name": "stderr",
     "output_type": "stream",
     "text": [
      "2023-07-20 21:10:32.827748: I tensorflow/tsl/cuda/cudart_stub.cc:28] Could not find cuda drivers on your machine, GPU will not be used.\n",
      "2023-07-20 21:10:37.235749: I tensorflow/tsl/cuda/cudart_stub.cc:28] Could not find cuda drivers on your machine, GPU will not be used.\n",
      "2023-07-20 21:10:37.275585: I tensorflow/core/platform/cpu_feature_guard.cc:182] This TensorFlow binary is optimized to use available CPU instructions in performance-critical operations.\n",
      "To enable the following instructions: AVX2 FMA, in other operations, rebuild TensorFlow with the appropriate compiler flags.\n",
      "2023-07-20 21:10:46.507429: W tensorflow/compiler/tf2tensorrt/utils/py_utils.cc:38] TF-TRT Warning: Could not find TensorRT\n"
     ]
    },
    {
     "name": "stdout",
     "output_type": "stream",
     "text": [
      "Found 6164 images belonging to 2 classes.\n",
      "Found 951 images belonging to 2 classes.\n"
     ]
    },
    {
     "name": "stderr",
     "output_type": "stream",
     "text": [
      "2023-07-20 21:11:06.737149: W tensorflow/tsl/framework/cpu_allocator_impl.cc:83] Allocation of 18939904 exceeds 10% of free system memory.\n",
      "2023-07-20 21:11:06.797488: W tensorflow/tsl/framework/cpu_allocator_impl.cc:83] Allocation of 18939904 exceeds 10% of free system memory.\n",
      "2023-07-20 21:11:06.897761: W tensorflow/tsl/framework/cpu_allocator_impl.cc:83] Allocation of 18939904 exceeds 10% of free system memory.\n"
     ]
    },
    {
     "name": "stdout",
     "output_type": "stream",
     "text": [
      "Epoch 1/10\n"
     ]
    },
    {
     "name": "stderr",
     "output_type": "stream",
     "text": [
      "2023-07-20 21:11:09.360600: W tensorflow/tsl/framework/cpu_allocator_impl.cc:83] Allocation of 18939904 exceeds 10% of free system memory.\n",
      "2023-07-20 21:11:09.367985: W tensorflow/tsl/framework/cpu_allocator_impl.cc:83] Allocation of 18939904 exceeds 10% of free system memory.\n"
     ]
    },
    {
     "name": "stdout",
     "output_type": "stream",
     "text": [
      "192/192 [==============================] - 478s 2s/step - loss: 0.5422 - accuracy: 0.7208 - val_loss: 0.3241 - val_accuracy: 0.8534\n",
      "Epoch 2/10\n",
      "192/192 [==============================] - 271s 1s/step - loss: 0.4423 - accuracy: 0.7916 - val_loss: 0.3876 - val_accuracy: 0.8082\n",
      "Epoch 3/10\n",
      "192/192 [==============================] - 247s 1s/step - loss: 0.4300 - accuracy: 0.7988 - val_loss: 0.3139 - val_accuracy: 0.8825\n",
      "Epoch 4/10\n",
      "192/192 [==============================] - 248s 1s/step - loss: 0.3831 - accuracy: 0.8144 - val_loss: 0.2261 - val_accuracy: 0.9116\n",
      "Epoch 5/10\n",
      "192/192 [==============================] - 258s 1s/step - loss: 0.3669 - accuracy: 0.8286 - val_loss: 0.1758 - val_accuracy: 0.9397\n",
      "Epoch 6/10\n",
      "192/192 [==============================] - 275s 1s/step - loss: 0.3464 - accuracy: 0.8434 - val_loss: 0.1837 - val_accuracy: 0.9332\n",
      "Epoch 7/10\n",
      "192/192 [==============================] - 256s 1s/step - loss: 0.3207 - accuracy: 0.8594 - val_loss: 0.1276 - val_accuracy: 0.9569\n",
      "Epoch 8/10\n",
      "192/192 [==============================] - 205s 1s/step - loss: 0.3092 - accuracy: 0.8637 - val_loss: 0.0980 - val_accuracy: 0.9817\n",
      "Epoch 9/10\n",
      "192/192 [==============================] - 197s 1s/step - loss: 0.2881 - accuracy: 0.8762 - val_loss: 0.0886 - val_accuracy: 0.9731\n",
      "Epoch 10/10\n",
      "192/192 [==============================] - 196s 1s/step - loss: 0.2783 - accuracy: 0.8788 - val_loss: 0.0841 - val_accuracy: 0.9817\n",
      "30/30 [==============================] - 8s 210ms/step - loss: 0.0842 - accuracy: 0.9811\n",
      "Test Loss: 0.08416019380092621\n",
      "Test Accuracy: 0.9810725450515747\n"
     ]
    }
   ],
   "source": [
    "import os\n",
    "import numpy as np\n",
    "from tensorflow.keras.preprocessing.image import ImageDataGenerator\n",
    "from tensorflow.keras.models import Sequential\n",
    "from tensorflow.keras.layers import Conv2D, MaxPooling2D, Flatten, Dense, Dropout\n",
    "from tensorflow.keras.optimizers import Adam\n",
    "\n",
    "# Define data directories\n",
    "train_dir = 'data3/' \n",
    "test_dir = 'data/test/'\n",
    "\n",
    "# Image dimensions\n",
    "img_width, img_height = 150, 150\n",
    "\n",
    "# Training parameters\n",
    "batch_size = 32\n",
    "epochs = 10\n",
    "\n",
    "# Data generators with data augmentation for training\n",
    "train_datagen = ImageDataGenerator(\n",
    "    rescale=1./255,\n",
    "    rotation_range=20,\n",
    "    width_shift_range=0.2,\n",
    "    height_shift_range=0.2,\n",
    "    shear_range=0.2,\n",
    "    zoom_range=0.2,\n",
    "    horizontal_flip=True\n",
    ")\n",
    "\n",
    "test_datagen = ImageDataGenerator(rescale=1./255)\n",
    "\n",
    "train_generator = train_datagen.flow_from_directory(\n",
    "    train_dir,\n",
    "    target_size=(img_width, img_height),\n",
    "    batch_size=batch_size,\n",
    "    class_mode='binary'\n",
    ")\n",
    "\n",
    "test_generator = test_datagen.flow_from_directory(\n",
    "    test_dir,\n",
    "    target_size=(img_width, img_height),\n",
    "    batch_size=batch_size,\n",
    "    class_mode='binary'\n",
    ")\n",
    "\n",
    "# Build the model\n",
    "model = Sequential()\n",
    "model.add(Conv2D(32, (3, 3), activation='relu', input_shape=(img_width, img_height, 3)))\n",
    "model.add(MaxPooling2D((2, 2)))\n",
    "model.add(Conv2D(64, (3, 3), activation='relu'))\n",
    "model.add(MaxPooling2D((2, 2)))\n",
    "model.add(Conv2D(128, (3, 3), activation='relu'))\n",
    "model.add(MaxPooling2D((2, 2)))\n",
    "model.add(Flatten())\n",
    "model.add(Dense(128, activation='relu'))\n",
    "model.add(Dropout(0.5))\n",
    "model.add(Dense(1, activation='sigmoid'))\n",
    "\n",
    "# Compile the model\n",
    "model.compile(optimizer=Adam(learning_rate=0.001), loss='binary_crossentropy', metrics=['accuracy'])\n",
    "\n",
    "# Train the model\n",
    "model.fit(\n",
    "    train_generator,\n",
    "    steps_per_epoch=train_generator.samples // batch_size,\n",
    "    epochs=epochs,\n",
    "    validation_data=test_generator,\n",
    "    validation_steps=test_generator.samples // batch_size\n",
    ")\n",
    "\n",
    "# Evaluate the model\n",
    "score = model.evaluate(test_generator)\n",
    "print(\"Test Loss:\", score[0])\n",
    "print(\"Test Accuracy:\", score[1])\n",
    "\n",
    "model.save('spoof2.h5')\n"
   ]
  },
  {
   "cell_type": "markdown",
   "id": "1b47897d",
   "metadata": {},
   "source": [
    "# mediapipe"
   ]
  },
  {
   "cell_type": "code",
   "execution_count": 4,
   "id": "ad0cde35",
   "metadata": {
    "scrolled": true
   },
   "outputs": [
    {
     "name": "stderr",
     "output_type": "stream",
     "text": [
      "[ WARN:0@206.749] global cap_v4l.cpp:982 open VIDEOIO(V4L2:/dev/video0): can't open camera by index\n",
      "[ERROR:0@206.750] global obsensor_uvc_stream_channel.cpp:156 getStreamChannelGroup Camera index out of range\n"
     ]
    }
   ],
   "source": [
    "import cv2\n",
    "import mediapipe as mp\n",
    "import numpy as np\n",
    "from tensorflow.keras.models import load_model\n",
    "\n",
    "# Load the anti-spoofing model\n",
    "anti_spoof_model = load_model('spoof2.h5')  # Replace with the path to your trained model\n",
    "\n",
    "mp_face_detection = mp.solutions.face_detection\n",
    "mp_drawing = mp.solutions.drawing_utils\n",
    "\n",
    "\n",
    "\n",
    "# For webcam input:\n",
    "cap = cv2.VideoCapture(0)\n",
    "with mp_face_detection.FaceDetection(\n",
    "    model_selection=0, min_detection_confidence=0.5) as face_detection:\n",
    "\n",
    "    while cap.isOpened():\n",
    "        success, image = cap.read()\n",
    "        if not success:\n",
    "            print(\"Ignoring empty camera frame.\")\n",
    "            continue\n",
    "\n",
    "        image_rgb = cv2.cvtColor(image, cv2.COLOR_BGR2RGB)\n",
    "        results = face_detection.process(image_rgb)\n",
    "\n",
    "        if results.detections:\n",
    "            for detection in results.detections:\n",
    "                bboxC = detection.location_data.relative_bounding_box\n",
    "                ih, iw, _ = image.shape\n",
    "                bbox = int(bboxC.xmin * iw), int(bboxC.ymin * ih), \\\n",
    "                       int(bboxC.width * iw), int(bboxC.height * ih)\n",
    "\n",
    "                face_img = image[bbox[1]:bbox[1] + bbox[3], bbox[0]:bbox[0] + bbox[2]]\n",
    "                face_img = cv2.resize(face_img, (150,150))\n",
    "                face_img = np.expand_dims(face_img, axis=0)\n",
    "                face_img = face_img / 255.0\n",
    "\n",
    "                prediction = anti_spoof_model.predict(face_img)\n",
    "                if prediction[0][0] < 0.5:\n",
    "                    label = \"Real\"\n",
    "                else:\n",
    "                    label = \"Spoof\"\n",
    "\n",
    "                mp_drawing.draw_detection(image, detection)\n",
    "                cv2.putText(image, label, (bbox[0], bbox[1] - 10), cv2.FONT_HERSHEY_SIMPLEX, 0.6, (0, 255, 0), 2)\n",
    "\n",
    "        cv2.imshow('MediaPipe Face Detection', image)\n",
    "        if cv2.waitKey(1) & 0xFF == ord(\"q\"):\n",
    "            break\n",
    "\n",
    "cap.release()\n",
    "cv2.destroyAllWindows()\n"
   ]
  }
 ],
 "metadata": {
  "kernelspec": {
   "display_name": "env",
   "language": "python",
   "name": "env"
  },
  "language_info": {
   "codemirror_mode": {
    "name": "ipython",
    "version": 3
   },
   "file_extension": ".py",
   "mimetype": "text/x-python",
   "name": "python",
   "nbconvert_exporter": "python",
   "pygments_lexer": "ipython3",
   "version": "3.10.9"
  }
 },
 "nbformat": 4,
 "nbformat_minor": 5
}
